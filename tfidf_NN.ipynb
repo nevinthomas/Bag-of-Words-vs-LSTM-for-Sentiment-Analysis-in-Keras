{
 "cells": [
  {
   "cell_type": "code",
   "execution_count": 1,
   "metadata": {
    "_cell_guid": "b1076dfc-b9ad-4769-8c92-a6c4dae69d19",
    "_uuid": "8f2839f25d086af736a60e9eeb907d3b93b6e0e5"
   },
   "outputs": [],
   "source": [
    "import numpy as np\n",
    "import pandas as pd \n",
    "import matplotlib.pyplot as plt"
   ]
  },
  {
   "cell_type": "code",
   "execution_count": 2,
   "metadata": {},
   "outputs": [],
   "source": [
    "import warnings\n",
    "warnings.simplefilter('ignore')\n",
    "import seaborn as sns\n",
    "sns.set_style(\"darkgrid\", {'axes.grid' : True})"
   ]
  },
  {
   "cell_type": "code",
   "execution_count": 3,
   "metadata": {},
   "outputs": [],
   "source": [
    "import tensorflow as tf\n",
    "from tensorflow import keras"
   ]
  },
  {
   "cell_type": "code",
   "execution_count": 4,
   "metadata": {},
   "outputs": [],
   "source": [
    "from __future__ import absolute_import, division, print_function, unicode_literals\n",
    "%matplotlib inline\n",
    "\n",
    "import skimage"
   ]
  },
  {
   "cell_type": "markdown",
   "metadata": {},
   "source": [
    "### Import Data"
   ]
  },
  {
   "cell_type": "code",
   "execution_count": 5,
   "metadata": {},
   "outputs": [],
   "source": [
    "df = pd.read_csv('C:/Users/nevin/Downloads/Misc/Projects/imdb-dataset-of-50k-movie-reviews/IMDB Dataset.csv')"
   ]
  },
  {
   "cell_type": "markdown",
   "metadata": {},
   "source": [
    "### Data Exploration"
   ]
  },
  {
   "cell_type": "code",
   "execution_count": 6,
   "metadata": {},
   "outputs": [
    {
     "name": "stdout",
     "output_type": "stream",
     "text": [
      "(50000, 2)\n"
     ]
    },
    {
     "data": {
      "text/html": [
       "<div>\n",
       "<style scoped>\n",
       "    .dataframe tbody tr th:only-of-type {\n",
       "        vertical-align: middle;\n",
       "    }\n",
       "\n",
       "    .dataframe tbody tr th {\n",
       "        vertical-align: top;\n",
       "    }\n",
       "\n",
       "    .dataframe thead th {\n",
       "        text-align: right;\n",
       "    }\n",
       "</style>\n",
       "<table border=\"1\" class=\"dataframe\">\n",
       "  <thead>\n",
       "    <tr style=\"text-align: right;\">\n",
       "      <th></th>\n",
       "      <th>review</th>\n",
       "      <th>sentiment</th>\n",
       "    </tr>\n",
       "  </thead>\n",
       "  <tbody>\n",
       "    <tr>\n",
       "      <th>0</th>\n",
       "      <td>One of the other reviewers has mentioned that after watching just 1 Oz episode you'll be hooked. They are right, as this is exactly what happened with me.&lt;br /&gt;&lt;br /&gt;The first thing that struck me about Oz was its brutality and unflinching scenes of violence, which set in right from the word GO. Trust me, this is not a show for the faint hearted or timid. This show pulls no punches with regards to drugs, sex or violence. Its is hardcore, in the classic use of the word.&lt;br /&gt;&lt;br /&gt;It is called OZ as that is the nickname given to the Oswald Maximum Security State Penitentary. It focuses mainly on Emerald City, an experimental section of the prison where all the cells have glass fronts and face inwards, so privacy is not high on the agenda. Em City is home to many..Aryans, Muslims, gangstas, Latinos, Christians, Italians, Irish and more....so scuffles, death stares, dodgy dealings and shady agreements are never far away.&lt;br /&gt;&lt;br /&gt;I would say the main appeal of the show is due to the fact that it goes where other shows wouldn't dare. Forget pretty pictures painted for mainstream audiences, forget charm, forget romance...OZ doesn't mess around. The first episode I ever saw struck me as so nasty it was surreal, I couldn't say I was ready for it, but as I watched more, I developed a taste for Oz, and got accustomed to the high levels of graphic violence. Not just violence, but injustice (crooked guards who'll be sold out for a nickel, inmates who'll kill on order and get away with it, well mannered, middle class inmates being turned into prison bitches due to their lack of street skills or prison experience) Watching Oz, you may become comfortable with what is uncomfortable viewing....thats if you can get in touch with your darker side.</td>\n",
       "      <td>positive</td>\n",
       "    </tr>\n",
       "    <tr>\n",
       "      <th>1</th>\n",
       "      <td>A wonderful little production. &lt;br /&gt;&lt;br /&gt;The filming technique is very unassuming- very old-time-BBC fashion and gives a comforting, and sometimes discomforting, sense of realism to the entire piece. &lt;br /&gt;&lt;br /&gt;The actors are extremely well chosen- Michael Sheen not only \"has got all the polari\" but he has all the voices down pat too! You can truly see the seamless editing guided by the references to Williams' diary entries, not only is it well worth the watching but it is a terrificly written and performed piece. A masterful production about one of the great master's of comedy and his life. &lt;br /&gt;&lt;br /&gt;The realism really comes home with the little things: the fantasy of the guard which, rather than use the traditional 'dream' techniques remains solid then disappears. It plays on our knowledge and our senses, particularly with the scenes concerning Orton and Halliwell and the sets (particularly of their flat with Halliwell's murals decorating every surface) are terribly well done.</td>\n",
       "      <td>positive</td>\n",
       "    </tr>\n",
       "    <tr>\n",
       "      <th>2</th>\n",
       "      <td>I thought this was a wonderful way to spend time on a too hot summer weekend, sitting in the air conditioned theater and watching a light-hearted comedy. The plot is simplistic, but the dialogue is witty and the characters are likable (even the well bread suspected serial killer). While some may be disappointed when they realize this is not Match Point 2: Risk Addiction, I thought it was proof that Woody Allen is still fully in control of the style many of us have grown to love.&lt;br /&gt;&lt;br /&gt;This was the most I'd laughed at one of Woody's comedies in years (dare I say a decade?). While I've never been impressed with Scarlet Johanson, in this she managed to tone down her \"sexy\" image and jumped right into a average, but spirited young woman.&lt;br /&gt;&lt;br /&gt;This may not be the crown jewel of his career, but it was wittier than \"Devil Wears Prada\" and more interesting than \"Superman\" a great comedy to go see with friends.</td>\n",
       "      <td>positive</td>\n",
       "    </tr>\n",
       "    <tr>\n",
       "      <th>3</th>\n",
       "      <td>Basically there's a family where a little boy (Jake) thinks there's a zombie in his closet &amp; his parents are fighting all the time.&lt;br /&gt;&lt;br /&gt;This movie is slower than a soap opera... and suddenly, Jake decides to become Rambo and kill the zombie.&lt;br /&gt;&lt;br /&gt;OK, first of all when you're going to make a film you must Decide if its a thriller or a drama! As a drama the movie is watchable. Parents are divorcing &amp; arguing like in real life. And then we have Jake with his closet which totally ruins all the film! I expected to see a BOOGEYMAN similar movie, and instead i watched a drama with some meaningless thriller spots.&lt;br /&gt;&lt;br /&gt;3 out of 10 just for the well playing parents &amp; descent dialogs. As for the shots with Jake: just ignore them.</td>\n",
       "      <td>negative</td>\n",
       "    </tr>\n",
       "  </tbody>\n",
       "</table>\n",
       "</div>"
      ],
      "text/plain": [
       "                                                                                                                                                                                                                                                                                                                                                                                                                                                                                                                                                                                                                                                                                                                                                                                                                                                                                                                                                                                                                                                                                                                                                                                                                                                                                                                                                                                                                                                                                                                                                                                                                                                                                                                                                                                                                              review  \\\n",
       "0  One of the other reviewers has mentioned that after watching just 1 Oz episode you'll be hooked. They are right, as this is exactly what happened with me.<br /><br />The first thing that struck me about Oz was its brutality and unflinching scenes of violence, which set in right from the word GO. Trust me, this is not a show for the faint hearted or timid. This show pulls no punches with regards to drugs, sex or violence. Its is hardcore, in the classic use of the word.<br /><br />It is called OZ as that is the nickname given to the Oswald Maximum Security State Penitentary. It focuses mainly on Emerald City, an experimental section of the prison where all the cells have glass fronts and face inwards, so privacy is not high on the agenda. Em City is home to many..Aryans, Muslims, gangstas, Latinos, Christians, Italians, Irish and more....so scuffles, death stares, dodgy dealings and shady agreements are never far away.<br /><br />I would say the main appeal of the show is due to the fact that it goes where other shows wouldn't dare. Forget pretty pictures painted for mainstream audiences, forget charm, forget romance...OZ doesn't mess around. The first episode I ever saw struck me as so nasty it was surreal, I couldn't say I was ready for it, but as I watched more, I developed a taste for Oz, and got accustomed to the high levels of graphic violence. Not just violence, but injustice (crooked guards who'll be sold out for a nickel, inmates who'll kill on order and get away with it, well mannered, middle class inmates being turned into prison bitches due to their lack of street skills or prison experience) Watching Oz, you may become comfortable with what is uncomfortable viewing....thats if you can get in touch with your darker side.   \n",
       "1  A wonderful little production. <br /><br />The filming technique is very unassuming- very old-time-BBC fashion and gives a comforting, and sometimes discomforting, sense of realism to the entire piece. <br /><br />The actors are extremely well chosen- Michael Sheen not only \"has got all the polari\" but he has all the voices down pat too! You can truly see the seamless editing guided by the references to Williams' diary entries, not only is it well worth the watching but it is a terrificly written and performed piece. A masterful production about one of the great master's of comedy and his life. <br /><br />The realism really comes home with the little things: the fantasy of the guard which, rather than use the traditional 'dream' techniques remains solid then disappears. It plays on our knowledge and our senses, particularly with the scenes concerning Orton and Halliwell and the sets (particularly of their flat with Halliwell's murals decorating every surface) are terribly well done.                                                                                                                                                                                                                                                                                                                                                                                                                                                                                                                                                                                                                                                                                                                                                                                              \n",
       "2  I thought this was a wonderful way to spend time on a too hot summer weekend, sitting in the air conditioned theater and watching a light-hearted comedy. The plot is simplistic, but the dialogue is witty and the characters are likable (even the well bread suspected serial killer). While some may be disappointed when they realize this is not Match Point 2: Risk Addiction, I thought it was proof that Woody Allen is still fully in control of the style many of us have grown to love.<br /><br />This was the most I'd laughed at one of Woody's comedies in years (dare I say a decade?). While I've never been impressed with Scarlet Johanson, in this she managed to tone down her \"sexy\" image and jumped right into a average, but spirited young woman.<br /><br />This may not be the crown jewel of his career, but it was wittier than \"Devil Wears Prada\" and more interesting than \"Superman\" a great comedy to go see with friends.                                                                                                                                                                                                                                                                                                                                                                                                                                                                                                                                                                                                                                                                                                                                                                                                                                                                      \n",
       "3  Basically there's a family where a little boy (Jake) thinks there's a zombie in his closet & his parents are fighting all the time.<br /><br />This movie is slower than a soap opera... and suddenly, Jake decides to become Rambo and kill the zombie.<br /><br />OK, first of all when you're going to make a film you must Decide if its a thriller or a drama! As a drama the movie is watchable. Parents are divorcing & arguing like in real life. And then we have Jake with his closet which totally ruins all the film! I expected to see a BOOGEYMAN similar movie, and instead i watched a drama with some meaningless thriller spots.<br /><br />3 out of 10 just for the well playing parents & descent dialogs. As for the shots with Jake: just ignore them.                                                                                                                                                                                                                                                                                                                                                                                                                                                                                                                                                                                                                                                                                                                                                                                                                                                                                                                                                                                                                                                        \n",
       "\n",
       "  sentiment  \n",
       "0  positive  \n",
       "1  positive  \n",
       "2  positive  \n",
       "3  negative  "
      ]
     },
     "execution_count": 6,
     "metadata": {},
     "output_type": "execute_result"
    }
   ],
   "source": [
    "print(df.shape)\n",
    "pd.set_option('display.max_colwidth',-1)\n",
    "df.head(4)"
   ]
  },
  {
   "cell_type": "code",
   "execution_count": 7,
   "metadata": {},
   "outputs": [
    {
     "data": {
      "image/png": "[encoded data removed]",
      "text/plain": [
       "<Figure size 288x216 with 1 Axes>"
      ]
     },
     "metadata": {
      "needs_background": "light"
     },
     "output_type": "display_data"
    },
    {
     "name": "stdout",
     "output_type": "stream",
     "text": [
      "negative    25000\n",
      "positive    25000\n",
      "Name: sentiment, dtype: int64\n"
     ]
    }
   ],
   "source": [
    "# Number of poitive and negative reviews\n",
    "dd = df['sentiment'].value_counts()\n",
    "plt.figure(figsize=(4, 3))\n",
    "plt.bar(x=np.array(['negative','positive']),height=dd.values)\n",
    "plt.show()\n",
    "print(df.sentiment.value_counts())"
   ]
  },
  {
   "cell_type": "code",
   "execution_count": 8,
   "metadata": {},
   "outputs": [
    {
     "data": {
      "text/plain": [
       "0    1\n",
       "1    1\n",
       "2    1\n",
       "3    0\n",
       "Name: sentiment, dtype: int64"
      ]
     },
     "execution_count": 8,
     "metadata": {},
     "output_type": "execute_result"
    }
   ],
   "source": [
    "# Labels: each label is an integer value of either 0 or 1, where 0 is a negative review, and 1 is a positive review.\n",
    "df['sentiment'] = [1 if label =='positive' else 0 for label in df['sentiment']]\n",
    "df['sentiment'].head(4)"
   ]
  },
  {
   "cell_type": "code",
   "execution_count": 9,
   "metadata": {},
   "outputs": [
    {
     "data": {
      "image/png": "[encoded data removed]",
      "text/plain": [
       "<Figure size 576x288 with 1 Axes>"
      ]
     },
     "metadata": {
      "needs_background": "light"
     },
     "output_type": "display_data"
    },
    {
     "name": "stdout",
     "output_type": "stream",
     "text": [
      "Biggest review has 13704 words\n"
     ]
    }
   ],
   "source": [
    "# Histogram of number of words per review\n",
    "plt.figure(figsize=(8, 4))\n",
    "plt.hist([len(sample) for sample in list(df['review'])], 50)\n",
    "plt.xlabel('No of words')\n",
    "plt.ylabel('No of reviews')\n",
    "plt.title('Review length distribution')\n",
    "plt.show()\n",
    "print('Biggest review has', np.max([len(sample) for sample in list(df['review'])]),'words')"
   ]
  },
  {
   "cell_type": "markdown",
   "metadata": {},
   "source": [
    "### Text feature extraction"
   ]
  },
  {
   "cell_type": "markdown",
   "metadata": {},
   "source": [
    "We use **CountVectorizer** from the scikit-learn library to vectorize sentences. It Convert a collection of text documents to a matrix of token counts. This implementation produces a sparse representation of the counts using scipy.sparse.csr_matrix. If you do not provide an a-priori dictionary and you do not use an analyzer that does some kind of feature selection then the number of features will be equal to the vocabulary size found by analyzing the data."
   ]
  },
  {
   "cell_type": "code",
   "execution_count": 10,
   "metadata": {},
   "outputs": [
    {
     "name": "stdout",
     "output_type": "stream",
     "text": [
      "No of word in the vocabulary: 101895\n"
     ]
    }
   ],
   "source": [
    "from sklearn.feature_extraction.text import CountVectorizer\n",
    "vectorizer = CountVectorizer() # not removing stop-words since we are gonna use tfidf\n",
    "vect_texts = vectorizer.fit_transform(list(df['review']))\n",
    "vocab = vectorizer.get_feature_names()\n",
    "print('No of word in the vocabulary:', len(vocab))"
   ]
  },
  {
   "cell_type": "code",
   "execution_count": 11,
   "metadata": {},
   "outputs": [],
   "source": [
    "# The most common 50 words in the whole corpus\n",
    "num_ngrams=50\n",
    "tot_counts = vect_texts.sum(axis=0).tolist()[0]\n",
    "word, tot_counts = zip(*[(word, count) for count, word in sorted(zip(tot_counts, vocab), reverse=True)])\n",
    "words50 = word[:num_ngrams]\n",
    "counts = tot_counts[:num_ngrams]\n",
    "idx = np.arange(num_ngrams)"
   ]
  },
  {
   "cell_type": "code",
   "execution_count": 12,
   "metadata": {},
   "outputs": [
    {
     "data": {
      "image/png": "[encoded data removed]",
      "text/plain": [
       "<Figure size 2160x720 with 1 Axes>"
      ]
     },
     "metadata": {
      "needs_background": "light"
     },
     "output_type": "display_data"
    }
   ],
   "source": [
    "plt.figure(figsize=(30, 10))\n",
    "plt.bar(idx, counts, width=0.8)\n",
    "plt.xlabel('N-grams', fontsize=20)\n",
    "plt.ylabel('Frequencies', fontsize=20)\n",
    "plt.title('Frequency distribution of words', fontsize=25)\n",
    "plt.xticks(idx, words50, rotation=45, fontsize=20)\n",
    "plt.show()"
   ]
  },
  {
   "cell_type": "markdown",
   "metadata": {},
   "source": [
    "As expected, the most frequent words in the corpus are the stop words. We usually exclude them in NLP tasks as they don't usually provide any valuable information about a particular document. However, we are not going to explicitly remove them in this task as TFIDF will take care of them by assigning them very small weights."
   ]
  },
  {
   "cell_type": "markdown",
   "metadata": {},
   "source": [
    "### Split data"
   ]
  },
  {
   "cell_type": "code",
   "execution_count": 13,
   "metadata": {},
   "outputs": [],
   "source": [
    "from sklearn.model_selection import train_test_split"
   ]
  },
  {
   "cell_type": "code",
   "execution_count": 14,
   "metadata": {},
   "outputs": [
    {
     "name": "stdout",
     "output_type": "stream",
     "text": [
      "Train dataset shape: (40000,), \n",
      "Test dataset shape: (10000,)\n"
     ]
    }
   ],
   "source": [
    "# y = (np.array(df['sentiment']))\n",
    "X_train, X_test, y_train, y_test = train_test_split(df['review'], df['sentiment'], test_size=0.2, random_state=13)\n",
    "print(\"Train dataset shape: {0}, \\nTest dataset shape: {1}\".format(X_train.shape, X_test.shape))"
   ]
  },
  {
   "cell_type": "markdown",
   "metadata": {},
   "source": [
    "### TFIDF Transformation"
   ]
  },
  {
   "cell_type": "markdown",
   "metadata": {},
   "source": [
    "Let's now prepare the data to feed into the model. For the data preparation step we will get bigrams and unigrams from the data and encode it using tf-idf. Then, we will select the top 20000 features from the vector of tokens using f_classif to get feature importance. We also discard features that occurs less than two times. <br>\n",
    "Note that while we use the whole dataset to create the `tfidf_vectorizer`, only the training data is used to select the top 20000 features. We did this because in a practical scenario, the labels for the test set would not be available."
   ]
  },
  {
   "cell_type": "code",
   "execution_count": 15,
   "metadata": {},
   "outputs": [],
   "source": [
    "from sklearn.feature_extraction.text import TfidfVectorizer\n",
    "from sklearn.feature_selection import SelectKBest\n",
    "from sklearn.feature_selection import f_classif"
   ]
  },
  {
   "cell_type": "code",
   "execution_count": 16,
   "metadata": {},
   "outputs": [
    {
     "name": "stdout",
     "output_type": "stream",
     "text": [
      "Train dataset shape: (40000, 20000), \n",
      "Test dataset shape: (10000, 20000)\n",
      "Wall time: 1min 36s\n"
     ]
    }
   ],
   "source": [
    "%%time\n",
    "kwargs = {\n",
    "    'ngram_range' : (1, 2),\n",
    "    'dtype' : 'int32',\n",
    "    'strip_accents' : 'unicode',\n",
    "    'decode_error' : 'replace',\n",
    "    'analyzer' : 'word',\n",
    "    'min_df' : 2,\n",
    "}\n",
    "# Learn Vocab from train texts and vectorize train and val sets\n",
    "tfidf_vectorizer = TfidfVectorizer(**kwargs)\n",
    "transformation = tfidf_vectorizer.fit(df['review'])\n",
    "transformed_texts = transformation.transform(df['review'])\n",
    "transformed_train = transformation.transform(X_train)\n",
    "transformed_test = transformation.transform(X_test)\n",
    "\n",
    "# Select best k features, with feature importance measured by f_classif\n",
    "# Set k as 20000 or (if number of ngrams is less) number of ngrams   \n",
    "TOP_K = 20000\n",
    "selector = SelectKBest(f_classif, k=min(TOP_K, transformed_texts.shape[1]))\n",
    "selector.fit(transformed_train, y_train)\n",
    "X = selector.transform(transformed_texts).astype('float32').toarray()\n",
    "X_train = selector.transform(transformed_train).astype('float32').toarray()\n",
    "X_test = selector.transform(transformed_test).astype('float32').toarray()\n",
    "print(\"Train dataset shape: {0}, \\nTest dataset shape: {1}\".format(X_train.shape, X_test.shape))"
   ]
  },
  {
   "cell_type": "markdown",
   "metadata": {},
   "source": [
    "### Model Architecture\n",
    "We are going to build a deep neural network for predicting the sentiments. The number of layers, number of neurons per layer and learning rate can be adjusted using the parameters in the `create_model` function.\n",
    "\n",
    "In this task, the input data consists of an array of word-probabilities. The labels to predict are either 0 or 1, i.e., it is a binary classification task. Therefore, we use *sigmoid** activation function in the final output layer and **binary_crossentropy** as the loss function."
   ]
  },
  {
   "cell_type": "code",
   "execution_count": 17,
   "metadata": {},
   "outputs": [],
   "source": [
    "from tensorflow.python.keras import models\n",
    "from tensorflow.python.keras.layers import Dense\n",
    "from tensorflow.python.keras.layers import Dropout"
   ]
  },
  {
   "cell_type": "code",
   "execution_count": 18,
   "metadata": {},
   "outputs": [],
   "source": [
    "def create_model(LAYERS = 2, UNITS = 64, DROPOUT_RATE = 0.2, LEARNING_RATE = 1e-3, batch_size=128):\n",
    "    input_shape = X_train.shape[1:]\n",
    "\n",
    "    model = keras.Sequential()\n",
    "    # Applies Dropout to the input\n",
    "    model.add(Dropout(rate=DROPOUT_RATE, input_shape=input_shape))\n",
    "    for _ in range(LAYERS-1):\n",
    "        model.add(Dense(units=UNITS, activation='relu'))\n",
    "        model.add(Dropout(rate=DROPOUT_RATE))\n",
    "\n",
    "    model.add(Dense(units=1, activation='sigmoid'))\n",
    "    \n",
    "    optimizer = tf.keras.optimizers.Adam(lr=LEARNING_RATE)\n",
    "    loss= 'binary_crossentropy'\n",
    "#     print(model.summary())\n",
    "    model.compile(optimizer=optimizer, loss=loss, metrics=['acc'])\n",
    "    \n",
    "    return model"
   ]
  },
  {
   "cell_type": "markdown",
   "metadata": {},
   "source": [
    "### Cross-validation"
   ]
  },
  {
   "cell_type": "code",
   "execution_count": 19,
   "metadata": {},
   "outputs": [
    {
     "name": "stderr",
     "output_type": "stream",
     "text": [
      "Using TensorFlow backend.\n"
     ]
    }
   ],
   "source": [
    "from keras.wrappers.scikit_learn import KerasClassifier\n",
    "from sklearn.model_selection import RandomizedSearchCV"
   ]
  },
  {
   "cell_type": "code",
   "execution_count": 20,
   "metadata": {},
   "outputs": [],
   "source": [
    "# Create a model as a sklearn estimator\n",
    "model = KerasClassifier(build_fn=create_model, epochs=6, batch_size=128)"
   ]
  },
  {
   "cell_type": "code",
   "execution_count": 21,
   "metadata": {},
   "outputs": [
    {
     "name": "stdout",
     "output_type": "stream",
     "text": [
      "WARNING:tensorflow:From C:\\Users\\nevin\\anaconda3\\lib\\site-packages\\tensorflow\\python\\ops\\init_ops.py:1251: calling VarianceScaling.__init__ (from tensorflow.python.ops.init_ops) with dtype is deprecated and will be removed in a future version.\n",
      "Instructions for updating:\n",
      "Call initializer instance with the dtype argument instead of passing it to the constructor\n",
      "WARNING:tensorflow:From C:\\Users\\nevin\\anaconda3\\lib\\site-packages\\tensorflow\\python\\ops\\nn_impl.py:180: add_dispatch_support.<locals>.wrapper (from tensorflow.python.ops.array_ops) is deprecated and will be removed in a future version.\n",
      "Instructions for updating:\n",
      "Use tf.where in 2.0, which has the same broadcast rule as np.where\n",
      "13334/13334 [==============================] - 1s 78us/sample - loss: 0.2816 - acc: 0.9219\n",
      "13333/13333 [==============================] - 1s 76us/sample - loss: 0.2949 - acc: 0.9183\n",
      "13333/13333 [==============================] - 1s 80us/sample - loss: 0.2923 - acc: 0.9214\n",
      "13334/13334 [==============================] - 2s 140us/sample - loss: 0.3053 - acc: 0.9267\n",
      "13333/13333 [==============================] - 1s 107us/sample - loss: 0.2428 - acc: 0.9146\n",
      "13333/13333 [==============================] - 2s 114us/sample - loss: 0.2468 - acc: 0.9196\n",
      "13334/13334 [==============================] - 1s 80us/sample - loss: 0.1944 - acc: 0.9306\n",
      "13333/13333 [==============================] - 1s 81us/sample - loss: 0.1942 - acc: 0.9287\n",
      "13333/13333 [==============================] - 1s 77us/sample - loss: 0.1965 - acc: 0.9300\n",
      "13334/13334 [==============================] - 2s 122us/sample - loss: 0.2084 - acc: 0.9303\n",
      "13333/13333 [==============================] - 2s 183us/sample - loss: 0.2264 - acc: 0.9260\n",
      "13333/13333 [==============================] - 3s 235us/sample - loss: 0.2266 - acc: 0.9305s - lo\n",
      "13334/13334 [==============================] - ETA: 0s - loss: 0.1758 - acc: 0.931 - 2s 187us/sample - loss: 0.1756 - acc: 0.9312\n",
      "13333/13333 [==============================] - 3s 201us/sample - loss: 0.1805 - acc: 0.9287\n",
      "13333/13333 [==============================] - 3s 192us/sample - loss: 0.1786 - acc: 0.9302\n",
      "13334/13334 [==============================] - 1s 96us/sample - loss: 0.2116 - acc: 0.9271\n",
      "13333/13333 [==============================] - 1s 91us/sample - loss: 0.2284 - acc: 0.9221\n",
      "13333/13333 [==============================] - 2s 126us/sample - loss: 0.2386 - acc: 0.9307\n",
      "13334/13334 [==============================] - 2s 158us/sample - loss: 0.3987 - acc: 0.9165\n",
      "13333/13333 [==============================] - 4s 271us/sample - loss: 0.4204 - acc: 0.9178\n",
      "13333/13333 [==============================] - 3s 251us/sample - loss: 0.4354 - acc: 0.9170\n",
      "13334/13334 [==============================] - 4s 282us/sample - loss: 0.3298 - acc: 0.9205\n",
      "13333/13333 [==============================] - 3s 259us/sample - loss: 0.3442 - acc: 0.9157\n",
      "13333/13333 [==============================] - 4s 282us/sample - loss: 0.3235 - acc: 0.9200s - los\n",
      "13334/13334 [==============================] - 3s 210us/sample - loss: 0.2176 - acc: 0.9002s - loss: 0.2165 - acc\n",
      "13333/13333 [==============================] - 4s 265us/sample - loss: 0.2382 - acc: 0.8935\n",
      "13333/13333 [==============================] - 3s 210us/sample - loss: 0.2175 - acc: 0.9163\n",
      "13334/13334 [==============================] - 6s 424us/sample - loss: 0.1968 - acc: 0.9294\n",
      "13333/13333 [==============================] - 5s 347us/sample - loss: 0.2035 - acc: 0.9284s - loss: 0.2034 \n",
      "13333/13333 [==============================] - 5s 372us/sample - loss: 0.2011 - acc: 0.9294s - loss: 0.2007  - ETA: 0s - loss: 0.1990\n",
      "Wall time: 52min 14s\n"
     ]
    }
   ],
   "source": [
    "%%time\n",
    "# Cross-validation\n",
    "# Define a series of parameters\n",
    "params = dict(LAYERS = [2, 3, 4], UNITS = [64, 128, 256], DROPOUT_RATE = [0.1, 0.2, 0.3, 0.4],\n",
    "              LEARNING_RATE = [0.1, 0.01, 0.001, 0.0001], batch_size=[64, 128, 256])\n",
    "# Create a random search cv object and fit it to the data\n",
    "random_search = RandomizedSearchCV(model, params, cv=3)\n",
    "random_search_results = random_search.fit(X_train, y_train, verbose=0)"
   ]
  },
  {
   "cell_type": "code",
   "execution_count": 22,
   "metadata": {},
   "outputs": [
    {
     "name": "stdout",
     "output_type": "stream",
     "text": [
      "Best accuracy of 0.9300249814987183 for parameters: {'batch_size': 256, 'UNITS': 256, 'LEARNING_RATE': 0.0001, 'LAYERS': 3, 'DROPOUT_RATE': 0.1}\n"
     ]
    }
   ],
   "source": [
    "print(\"Best accuracy of\",random_search_results.best_score_, \"for parameters:\", random_search_results.best_params_)"
   ]
  },
  {
   "cell_type": "markdown",
   "metadata": {},
   "source": [
    "### Training using the best model"
   ]
  },
  {
   "cell_type": "code",
   "execution_count": 23,
   "metadata": {},
   "outputs": [],
   "source": [
    "from keras.callbacks import EarlyStopping\n",
    "from keras.callbacks import ModelCheckpoint"
   ]
  },
  {
   "cell_type": "code",
   "execution_count": 24,
   "metadata": {},
   "outputs": [],
   "source": [
    "# Instantiate an early stopping callback\n",
    "early_stopping = EarlyStopping(monitor='val_loss', patience=2)\n",
    "# Instantiate a model checkpoint callback\n",
    "model_save = ModelCheckpoint('best_model.hdf5',save_best_only=True)\n",
    "\n",
    "callbacks = [early_stopping, model_save]"
   ]
  },
  {
   "cell_type": "code",
   "execution_count": 25,
   "metadata": {},
   "outputs": [
    {
     "name": "stdout",
     "output_type": "stream",
     "text": [
      "Train on 40000 samples, validate on 10000 samples\n",
      "Epoch 1/100\n",
      "40000/40000 [==============================] - 52s 1ms/sample - loss: 0.3737 - acc: 0.8741 - val_loss: 0.2217 - val_acc: 0.9137\n",
      "Epoch 2/100\n",
      "40000/40000 [==============================] - 46s 1ms/sample - loss: 0.1616 - acc: 0.9392 - val_loss: 0.2051 - val_acc: 0.9200\n",
      "Epoch 3/100\n",
      "40000/40000 [==============================] - 42s 1ms/sample - loss: 0.1193 - acc: 0.9567 - val_loss: 0.2120 - val_acc: 0.9198\n",
      "Epoch 4/100\n",
      "40000/40000 [==============================] - 43s 1ms/sample - loss: 0.0924 - acc: 0.9683 - val_loss: 0.2281 - val_acc: 0.9167\n"
     ]
    }
   ],
   "source": [
    "history=random_search_results.best_estimator_.fit(X_train, y_train, batch_size=64, epochs=100, \n",
    "                                                  validation_data=(X_test, y_test), verbose=1, callbacks=callbacks)"
   ]
  },
  {
   "cell_type": "markdown",
   "metadata": {},
   "source": [
    "### Evaluation of model on test set"
   ]
  },
  {
   "cell_type": "code",
   "execution_count": 26,
   "metadata": {},
   "outputs": [
    {
     "data": {
      "image/png": "[encoded data removed]",
      "text/plain": [
       "<Figure size 864x252 with 2 Axes>"
      ]
     },
     "metadata": {
      "needs_background": "light"
     },
     "output_type": "display_data"
    }
   ],
   "source": [
    "# Let's plot training and validation accuracy as well as loss.\n",
    "def plot_history(history):\n",
    "    accuracy = history.history['acc']\n",
    "    val_accuracy = history.history['val_acc']\n",
    "    loss = history.history['loss']\n",
    "    val_loss = history.history['val_loss']\n",
    "    \n",
    "    epochs = range(1,len(accuracy) + 1)\n",
    "    \n",
    "    fig, (ax1, ax2) = plt.subplots(1,2,figsize=(12, 3.5))\n",
    "    \n",
    "    # Plot accuracy  \n",
    "    ax1.plot(epochs, accuracy, 'b', label='Training accuracy')\n",
    "    ax1.plot(epochs, val_accuracy, 'g', label='Validation accuracy')\n",
    "    ax1.set_title('Training and validation accuracy')\n",
    "    ax1.set(xlabel='Epochs', ylabel='Accuracy')\n",
    "    ax1.legend()\n",
    "    \n",
    "    # Plot loss\n",
    "    ax2.plot(epochs, loss, 'b', label='Training loss')\n",
    "    ax2.plot(epochs, val_loss, 'g', label='Validation loss')\n",
    "    ax2.set_title('Training and validation loss')\n",
    "    ax1.set(xlabel='Epochs', ylabel='Loss')\n",
    "    ax2.legend()\n",
    "\n",
    "plot_history(history)"
   ]
  },
  {
   "cell_type": "markdown",
   "metadata": {},
   "source": [
    "We can see that after a certain number of epochs, the model starts to overfit. The `ModelCheckpoint` callback we used, helps us choose the weights which gave the best results on the testing set before the model starts to overfit."
   ]
  },
  {
   "cell_type": "code",
   "execution_count": 27,
   "metadata": {},
   "outputs": [
    {
     "name": "stdout",
     "output_type": "stream",
     "text": [
      "Model: \"sequential_32\"\n",
      "_________________________________________________________________\n",
      "Layer (type)                 Output Shape              Param #   \n",
      "=================================================================\n",
      "dropout_96 (Dropout)         (None, 20000)             0         \n",
      "_________________________________________________________________\n",
      "dense_96 (Dense)             (None, 256)               5120256   \n",
      "_________________________________________________________________\n",
      "dropout_97 (Dropout)         (None, 256)               0         \n",
      "_________________________________________________________________\n",
      "dense_97 (Dense)             (None, 256)               65792     \n",
      "_________________________________________________________________\n",
      "dropout_98 (Dropout)         (None, 256)               0         \n",
      "_________________________________________________________________\n",
      "dense_98 (Dense)             (None, 1)                 257       \n",
      "=================================================================\n",
      "Total params: 5,186,305\n",
      "Trainable params: 5,186,305\n",
      "Non-trainable params: 0\n",
      "_________________________________________________________________\n",
      "10000/10000 [==============================] - 5s 500us/sample - loss: 0.2051 - acc: 0.9200s - loss: 0.2050 \n",
      "Restored model, accuracy: 92.00%\n"
     ]
    }
   ],
   "source": [
    "# Creating an instance of the best model as found by Randomized CV\n",
    "best_model=create_model(**random_search_results.best_params_)\n",
    "best_model.summary()\n",
    "\n",
    "# Loads the weights\n",
    "best_model.load_weights('best_model.hdf5')\n",
    "\n",
    "# Re-evaluate the model\n",
    "loss,acc = best_model.evaluate(X_test, y_test, verbose=1)\n",
    "print(\"Restored model, accuracy: {:5.2f}%\".format(100*acc))\n",
    "\n",
    "# Predicted classes and probabilities\n",
    "pred=best_model.predict_classes(X_test)\n",
    "pred_prob=best_model.predict(X_test)"
   ]
  },
  {
   "cell_type": "markdown",
   "metadata": {},
   "source": [
    "### Prediction Examples"
   ]
  },
  {
   "cell_type": "markdown",
   "metadata": {},
   "source": [
    "#### True Positive"
   ]
  },
  {
   "cell_type": "code",
   "execution_count": 28,
   "metadata": {},
   "outputs": [
    {
     "name": "stdout",
     "output_type": "stream",
     "text": [
      "No. I'm not kidding with this one. He was a guest reviewer for Entertainment Weekly and gave this movie positive marks. And who can blame him? This is a charming, upbeat, and rather funny Disney movie. Who doesn't love kittens? The music in Ev'rybody Wants To Be A Cat is jamming. It makes me want to snap my fingers or something. Only years later when Cats Don't Dance came out have I seen a movie that was that musically fun. What Aristocats lacks in animation and story, it makes up for in charm. Plus, everything moves at a relaxed pace, and even the villain isn't all that scary. It's perfect for the younger set while not being so sappy that adults can't like it. If Snoop was here, I'm sure he would say the same thing. Yeah. Dig those CRAZY cats, man.\n",
      "--\n",
      "Actual sentiment: positive\n",
      "Predicted sentiment: positive with probability 0.7948198\n"
     ]
    }
   ],
   "source": [
    "i=6\n",
    "index,=np.where((X == X_test[i]).all(axis=1))[0]\n",
    "print(df['review'][index])\n",
    "print('--')\n",
    "print('Actual sentiment:', ('positive' if df['sentiment'][index]==1 else 'negative'))\n",
    "print('Predicted sentiment:', ('positive' if pred[i][0]==1 else 'negative'), \n",
    "      'with probability', (pred_prob[i][0] if pred[i][0]==1 else (1-pred_prob[i][0])))"
   ]
  },
  {
   "cell_type": "markdown",
   "metadata": {},
   "source": [
    "#### True Negative"
   ]
  },
  {
   "cell_type": "code",
   "execution_count": 29,
   "metadata": {},
   "outputs": [
    {
     "name": "stdout",
     "output_type": "stream",
     "text": [
      "The summary provided by my cable TV guide made it sound a lot more interesting than it actually is. \"Slaughterhouse Rock\" is by far the worst horror film that I have ever seen, a title previously held by \"Urban Legends: Final Cut\". From its opening scene I could tell it's going to be really bad, but I was so bored that I couldn't care less. This film contains laughable acting, especially by the guy who's tormented in his dreams, incredible as in not credible plot twists, and some of the crappiest music I've heard, and I'm living in a period when the likes of Britney Spears and Nsync dominate the air waves. The biggest problem with \"Slaughterhouse Rock\" is that it's not funny. One would a film as dull and boring and so NOT scary as this would try to spice things up a bit with a few funny one-liners here and there, but no. We have Tormented Guy's self-centered friend trying to be funny, but came across as annoying instead. (spoiler) And please, do tell me, who in this crazy world is insane and self-loathing enough to visit a creepy jail in the middle of the night? No one! If you're going to make a horror movie, at least make it believable. This one is anything but.\n",
      "--\n",
      "Actual sentiment: negative\n",
      "Predicted sentiment: negative with probability 0.9982569515705109\n"
     ]
    }
   ],
   "source": [
    "i=1\n",
    "index,=np.where((X == X_test[i]).all(axis=1))[0]\n",
    "print(df['review'][index])\n",
    "print('--')\n",
    "print('Actual sentiment:', ('positive' if df['sentiment'][index]==1 else 'negative'))\n",
    "print('Predicted sentiment:', ('positive' if pred[i][0]==1 else 'negative'), \n",
    "      'with probability', (pred_prob[i][0] if pred[i][0]==1 else (1-pred_prob[i][0])))"
   ]
  },
  {
   "cell_type": "markdown",
   "metadata": {},
   "source": [
    "#### False Positive"
   ]
  },
  {
   "cell_type": "code",
   "execution_count": 30,
   "metadata": {},
   "outputs": [
    {
     "name": "stdout",
     "output_type": "stream",
     "text": [
      "On the pure theatrical side, Last Stand was great, as the reenactments and soundtrack are very entertaining, but there are better accounts of this battle found elsewhere that, while not as long or as flashy, are far more historically comprehensive.<br /><br />Certain little details, such as the misuse of the word \"hoplon\" for the Greek hoplite shield and the mispronounciations of various names and words, really ate at me.<br /><br />My guess would be, that because \"Last Stand of the 300\" was aired the eve of the theatrical release of \"300\", the History Channel was only trying to ride the coattails of the movie's hype.<br /><br />If you're looking for a depiction that's historically accurate in all respects possible, you'd have better luck elsewhere.\n",
      "--\n",
      "Actual sentiment: negative\n",
      "Predicted sentiment: positive with probability 0.75813514\n"
     ]
    }
   ],
   "source": [
    "i=np.argmax(np.reshape(pred,(10000,))-y_test)\n",
    "index,=np.where((X == X_test[i]).all(axis=1))[0]\n",
    "print(df['review'][index])\n",
    "print('--')\n",
    "print('Actual sentiment:', ('positive' if df['sentiment'][index]==1 else 'negative'))\n",
    "print('Predicted sentiment:', ('positive' if pred[i][0]==1 else 'negative'), \n",
    "      'with probability', (pred_prob[i][0] if pred[i][0]==1 else (1-pred_prob[i][0])))"
   ]
  },
  {
   "cell_type": "markdown",
   "metadata": {},
   "source": [
    "#### False Negative"
   ]
  },
  {
   "cell_type": "code",
   "execution_count": 31,
   "metadata": {},
   "outputs": [
    {
     "name": "stdout",
     "output_type": "stream",
     "text": [
      "I watched this movie, having never read the book, and took the characters at face value, but having already been introduced to them, watched it again recently. I got a whole different viewpoint out of the film.<br /><br />Without the burden of having to focus intently on each character, learning their quirks and foibles, allowed me to focus on the cultural issues laid out in the film. The farm families of Iowa are so intimately inter-related as they are in the area of Indiana where I grew up in the 40's and 50's that I immediately recognized the back-stories and motives behind the characters. Perhaps, Jane Smiley did mean for us to see beyond the superficial into the world these people had to live, but viewers are so caught up in the \"Hollywood\" aura of the individual actors that they miss a rich layout of a lifestyle that exists less and less as each decade passes. Another film with these characteristics is the \"Bridges of Madison County\". Try watching both of these films again with an eye to the whole picture.\n",
      "--\n",
      "Actual sentiment: positive\n",
      "Predicted sentiment: negative with probability 0.539434015750885\n"
     ]
    }
   ],
   "source": [
    "i=np.argmin(np.reshape(pred,(10000,))-y_test)\n",
    "index,=np.where((X == X_test[i]).all(axis=1))[0]\n",
    "print(df['review'][index])\n",
    "print('--')\n",
    "print('Actual sentiment:', ('positive' if df['sentiment'][index]==1 else 'negative'))\n",
    "print('Predicted sentiment:', ('positive' if pred[i][0]==1 else 'negative'), \n",
    "      'with probability', (pred_prob[i][0] if pred[i][0]==1 else (1-pred_prob[i][0])))"
   ]
  }
 ],
 "metadata": {
  "kernelspec": {
   "display_name": "Python 3",
   "language": "python",
   "name": "python3"
  },
  "language_info": {
   "codemirror_mode": {
    "name": "ipython",
    "version": 3
   },
   "file_extension": ".py",
   "mimetype": "text/x-python",
   "name": "python",
   "nbconvert_exporter": "python",
   "pygments_lexer": "ipython3",
   "version": "3.7.6"
  }
 },
 "nbformat": 4,
 "nbformat_minor": 1
}
